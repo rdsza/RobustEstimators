{
 "cells": [
  {
   "cell_type": "code",
   "execution_count": 73,
   "metadata": {},
   "outputs": [],
   "source": [
    "import os\n",
    "import numpy as np\n",
    "import time\n",
    "import math\n",
    "import math\n",
    "import random"
   ]
  },
  {
   "cell_type": "code",
   "execution_count": 74,
   "metadata": {},
   "outputs": [],
   "source": [
    "def create_array(outliers):\n",
    "    #Create array to use\n",
    "    array = np.random.normal(1, 1, 5000)\n",
    "    true_mean = np.mean(array)\n",
    "    true_std = np.std(array)\n",
    "\n",
    "    #Find correct mean and std before outliers are added\n",
    "\n",
    "    #Add Outliers\n",
    "    indicies = np.random.randint(0, 4999, outliers)\n",
    "\n",
    "    for o in range(outliers):\n",
    "            g = indicies[o]\n",
    "            outs = np.random.uniform(0, 11)\n",
    "            array[g] = outs\n",
    "            \n",
    "    return array, true_mean, true_std\n",
    "                    "
   ]
  },
  {
   "cell_type": "code",
   "execution_count": 75,
   "metadata": {},
   "outputs": [],
   "source": [
    "def algorithm(data, t):\n",
    "    \n",
    "    # Initialize variables for running stats\n",
    "    n = 0      # Count of valid values\n",
    "    mean = 0   # Running mean\n",
    "    M2 = 0     # Sum of squares of differences from the current mean\n",
    "    threshold = t  # Number of standard deviations to trim outliers\n",
    "\n",
    "    # Loop through each value in the stream\n",
    "    for value in data:\n",
    "        # Outlier detection: only skip trimming for the first value\n",
    "        if n > 1:\n",
    "            # Calculate temporary standard deviation\n",
    "            variance = M2 / (n - 1) if n > 1 else 0\n",
    "            stddev = math.sqrt(variance)\n",
    "\n",
    "            # Check if value is within threshold * stddev from the mean\n",
    "            if abs(value - mean) > threshold * stddev:\n",
    "                #print(f\"Value {value} is considered an outlier and will be skipped.\")\n",
    "                continue\n",
    "\n",
    "        # Update running statistics for non-outliers\n",
    "        n += 1\n",
    "        delta = value - mean\n",
    "        mean += delta / n\n",
    "        delta2 = value - mean\n",
    "        M2 += delta * delta2\n",
    "\n",
    "        # Compute the standard deviation for the current set\n",
    "        if n < 2:\n",
    "            stddev = float('nan')  # Stddev undefined for the first value\n",
    "        else:\n",
    "            variance = M2 / (n - 1)\n",
    "            stddev = math.sqrt(variance)\n",
    "\n",
    "        # Output the running mean and standard deviation after each valid value\n",
    "        #print(f\"After {n} valid values: Mean = {mean}, Stddev = {stddev}\")\n",
    "    return mean, stddev\n"
   ]
  },
  {
   "cell_type": "code",
   "execution_count": 76,
   "metadata": {},
   "outputs": [],
   "source": [
    "#This cell runs the algorithm at varying degrees of outliers\n",
    "final = dict()\n",
    "for o in range(0, 501, 125):\n",
    "    np.random.seed(1)\n",
    "    percent_mean_errors = []\n",
    "    percent_std_errors = []\n",
    "\n",
    "    \n",
    "    for i in range(10000):\n",
    "        array, true_mean, true_std = create_array(o)\n",
    "        mean, std = algorithm(array, 3)\n",
    "        diff_in_means = mean - true_mean\n",
    "        diff_in_std = std - true_std\n",
    "        percent_mean_errors.append(abs(diff_in_means/true_mean) * 100)\n",
    "        percent_std_errors.append(abs(diff_in_std/ true_std) * 100)\n",
    "        \n",
    "        \n",
    "    final[o] = (np.mean(percent_mean_errors), np.mean(percent_std_errors))\n",
    "\n",
    "        \n",
    "        \n"
   ]
  },
  {
   "cell_type": "code",
   "execution_count": 77,
   "metadata": {},
   "outputs": [
    {
     "data": {
      "text/plain": [
       "{0: (0.7562913072356974, 2.2349101243687333),\n",
       " 125: (1.370266237216358, 1.5802133629743937),\n",
       " 250: (2.214097527605272, 1.0546923190964428),\n",
       " 375: (3.3755369884667803, 1.4004928308454772),\n",
       " 500: (4.527668278475625, 2.1574237652498933)}"
      ]
     },
     "execution_count": 77,
     "metadata": {},
     "output_type": "execute_result"
    }
   ],
   "source": [
    "final"
   ]
  },
  {
   "cell_type": "code",
   "execution_count": 80,
   "metadata": {},
   "outputs": [],
   "source": [
    "#This cell runs the algorithm at varying degrees of thresholds\n",
    "final = dict()\n",
    "for t in range(5):\n",
    "    t = t* .5 +2\n",
    "    np.random.seed(1)\n",
    "    percent_mean_errors = []\n",
    "    percent_std_errors = []\n",
    "\n",
    "    \n",
    "    for i in range(10000):\n",
    "        array, true_mean, true_std = create_array(500)\n",
    "        mean, std = algorithm(array, t)\n",
    "        diff_in_means = mean - true_mean\n",
    "        diff_in_std = std - true_std\n",
    "        percent_mean_errors.append(abs(diff_in_means/true_mean) * 100)\n",
    "        percent_std_errors.append(abs(diff_in_std/ true_std) * 100)\n",
    "        \n",
    "        \n",
    "    final[t] = (np.mean(percent_mean_errors), np.mean(percent_std_errors))"
   ]
  },
  {
   "cell_type": "code",
   "execution_count": 81,
   "metadata": {},
   "outputs": [
    {
     "data": {
      "text/plain": [
       "{2.0: (14.215063812364003, 38.25293367238581),\n",
       " 2.5: (4.6769522621203174, 8.38022830836227),\n",
       " 3.0: (4.527668278475625, 2.1574237652498933),\n",
       " 3.5: (6.332893391646013, 6.005760118801969),\n",
       " 4.0: (9.195144712483348, 11.521729347033798)}"
      ]
     },
     "execution_count": 81,
     "metadata": {},
     "output_type": "execute_result"
    }
   ],
   "source": [
    "final"
   ]
  },
  {
   "cell_type": "code",
   "execution_count": 79,
   "metadata": {},
   "outputs": [
    {
     "name": "stdout",
     "output_type": "stream",
     "text": [
      "2.0\n",
      "2.5\n",
      "3.0\n",
      "3.5\n",
      "4.0\n"
     ]
    }
   ],
   "source": [
    "for o in range(5):\n",
    "    print(str((o * .5) +2) )"
   ]
  },
  {
   "cell_type": "code",
   "execution_count": 70,
   "metadata": {},
   "outputs": [],
   "source": [
    "percent_mean_errors = []\n",
    "percent_std_errors = []\n",
    "np.random.seed(1)\n",
    "for i in range(1000):\n",
    "\n",
    "    # Generate data\n",
    "    data = np.random.normal(loc=1, scale=1, size=4000)\n",
    "    true_mean = np.mean(data)\n",
    "    true_std = np.std(data)\n",
    "   # print(true_std)\n",
    "\n",
    "    # Generate an array of random floats between 0 and 11 for Outliers\n",
    "    random_floats = np.random.uniform(0, 11, size=400)  # Adjust size as needed\n",
    "\n",
    "    # Iterate through the random floats and insert them into random positions in 'data'\n",
    "    for value in random_floats:\n",
    "        random_index = random.randint(0, len(data) - 1)\n",
    "        data[random_index] = value\n",
    "        \n",
    "        \n",
    "\n",
    "    #print(\"Modified data:\", data)\n",
    "\n",
    "    # Initialize variables for running stats\n",
    "    n = 0      # Count of valid values\n",
    "    mean = 0   # Running mean\n",
    "    M2 = 0     # Sum of squares of differences from the current mean\n",
    "    threshold = 3  # Number of standard deviations to trim outliers\n",
    "\n",
    "    # Loop through each value in the stream\n",
    "    for value in data:\n",
    "        # Outlier detection: only skip trimming for the first value\n",
    "        if n > 1:\n",
    "            # Calculate temporary standard deviation\n",
    "            variance = M2 / (n - 1) if n > 1 else 0\n",
    "            stddev = math.sqrt(variance)\n",
    "\n",
    "            # Check if value is within threshold * stddev from the mean\n",
    "            if abs(value - mean) > threshold * stddev:\n",
    "                #print(f\"Value {value} is considered an outlier and will be skipped.\")\n",
    "                continue\n",
    "\n",
    "        # Update running statistics for non-outliers\n",
    "        n += 1\n",
    "        delta = value - mean\n",
    "        mean += delta / n\n",
    "        delta2 = value - mean\n",
    "        M2 += delta * delta2\n",
    "\n",
    "        # Compute the standard deviation fo#r the current set\n",
    "        if n < 2:\n",
    "            stddev = float('nan')  # Stddev undefined for the first value\n",
    "        else:\n",
    "            variance = M2 / (n - 1)\n",
    "            stddev = math.sqrt(variance)\n",
    "\n",
    "        # Output the running mean and standard deviation after each valid value\n",
    "        #print(f\"After {n} valid values: Mean = {mean}, Stddev = {stddev}\")\n",
    "    diff_in_means = mean - true_mean\n",
    "    diff_in_std = stddev - true_std\n",
    "    percent_mean_errors.append(abs(diff_in_means)/true_mean * 100)\n",
    "    percent_std_errors.append(abs(diff_in_std)/ true_std * 100)\n",
    "    \n",
    "\n",
    "# print(f\"Mean = {mean}\")\n",
    "# print(f\"Stddev = {stddev}\")"
   ]
  },
  {
   "cell_type": "code",
   "execution_count": 71,
   "metadata": {},
   "outputs": [
    {
     "data": {
      "text/plain": [
       "2.234326835641625"
      ]
     },
     "execution_count": 71,
     "metadata": {},
     "output_type": "execute_result"
    }
   ],
   "source": [
    "np.mean(percent_std_errors)"
   ]
  },
  {
   "cell_type": "code",
   "execution_count": 72,
   "metadata": {},
   "outputs": [
    {
     "data": {
      "text/plain": [
       "4.332311526175828"
      ]
     },
     "execution_count": 72,
     "metadata": {},
     "output_type": "execute_result"
    }
   ],
   "source": [
    "np.mean(percent_mean_errors)"
   ]
  },
  {
   "cell_type": "code",
   "execution_count": 35,
   "metadata": {},
   "outputs": [
    {
     "data": {
      "text/plain": [
       "2.048211801355357"
      ]
     },
     "execution_count": 35,
     "metadata": {},
     "output_type": "execute_result"
    }
   ],
   "source": [
    "np.mean(percent_mean_errors)"
   ]
  },
  {
   "cell_type": "code",
   "execution_count": null,
   "metadata": {},
   "outputs": [],
   "source": []
  }
 ],
 "metadata": {
  "kernelspec": {
   "display_name": "Cryo-EM_project",
   "language": "python",
   "name": "python3"
  },
  "language_info": {
   "codemirror_mode": {
    "name": "ipython",
    "version": 3
   },
   "file_extension": ".py",
   "mimetype": "text/x-python",
   "name": "python",
   "nbconvert_exporter": "python",
   "pygments_lexer": "ipython3",
   "version": "3.11.0"
  }
 },
 "nbformat": 4,
 "nbformat_minor": 2
}
