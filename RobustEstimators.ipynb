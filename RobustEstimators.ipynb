{
  "nbformat": 4,
  "nbformat_minor": 0,
  "metadata": {
    "colab": {
      "provenance": [],
      "authorship_tag": "ABX9TyOb2Np4nIbRFIdMiPxf15Zw",
      "include_colab_link": true
    },
    "kernelspec": {
      "name": "python3",
      "display_name": "Python 3"
    },
    "language_info": {
      "name": "python"
    }
  },
  "cells": [
    {
      "cell_type": "markdown",
      "metadata": {
        "id": "view-in-github",
        "colab_type": "text"
      },
      "source": [
        "<a href=\"https://colab.research.google.com/github/rdsza/RobustEstimators/blob/main/RobustEstimators.ipynb\" target=\"_parent\"><img src=\"https://colab.research.google.com/assets/colab-badge.svg\" alt=\"Open In Colab\"/></a>"
      ]
    },
    {
      "cell_type": "code",
      "source": [
        "import os\n",
        "import numpy as np\n",
        "import time\n",
        "import math"
      ],
      "metadata": {
        "id": "yIKFYkV90Up8"
      },
      "execution_count": 1,
      "outputs": []
    },
    {
      "cell_type": "markdown",
      "source": [
        "# Running estimator using Welford"
      ],
      "metadata": {
        "id": "-HGjkMH0kYa6"
      }
    },
    {
      "cell_type": "code",
      "source": [
        "import math\n",
        "import random\n",
        "\n",
        "# Generate data\n",
        "data = np.random.normal(loc=0.5, scale=1.5, size=4000)\n",
        "\n",
        "# Generate an array of random floats between 0 and 11 for Outliers\n",
        "random_floats = np.random.uniform(0, 11, size=400)  # Adjust size as needed\n",
        "\n",
        "# Iterate through the random floats and insert them into random positions in 'data'\n",
        "for value in random_floats:\n",
        "  random_index = random.randint(0, len(data) - 1)\n",
        "  data[random_index] = value\n",
        "\n",
        "print(\"Modified data:\", data)\n",
        "\n",
        "# Initialize variables for running stats\n",
        "n = 0      # Count of valid values\n",
        "mean = 0   # Running mean\n",
        "M2 = 0     # Sum of squares of differences from the current mean\n",
        "threshold = 3  # Number of standard deviations to trim outliers\n",
        "\n",
        "# Loop through each value in the stream\n",
        "for value in data:\n",
        "    # Outlier detection: only skip trimming for the first value\n",
        "    if n > 1:\n",
        "        # Calculate temporary standard deviation\n",
        "        variance = M2 / (n - 1) if n > 1 else 0\n",
        "        stddev = math.sqrt(variance)\n",
        "\n",
        "        # Check if value is within threshold * stddev from the mean\n",
        "        if abs(value - mean) > threshold * stddev:\n",
        "            #print(f\"Value {value} is considered an outlier and will be skipped.\")\n",
        "            continue\n",
        "\n",
        "    # Update running statistics for non-outliers\n",
        "    n += 1\n",
        "    delta = value - mean\n",
        "    mean += delta / n\n",
        "    delta2 = value - mean\n",
        "    M2 += delta * delta2\n",
        "\n",
        "    # Compute the standard deviation for the current set\n",
        "    if n < 2:\n",
        "        stddev = float('nan')  # Stddev undefined for the first value\n",
        "    else:\n",
        "        variance = M2 / (n - 1)\n",
        "        stddev = math.sqrt(variance)\n",
        "\n",
        "    # Output the running mean and standard deviation after each valid value\n",
        "    #print(f\"After {n} valid values: Mean = {mean}, Stddev = {stddev}\")\n",
        "\n",
        "print(f\"Mean = {mean}\")\n",
        "print(f\"Stddev = {stddev}\")"
      ],
      "metadata": {
        "colab": {
          "base_uri": "https://localhost:8080/"
        },
        "id": "6F6W066c7Sxg",
        "outputId": "09be7005-2b22-49a9-cd4f-15fd86f83360"
      },
      "execution_count": 2,
      "outputs": [
        {
          "output_type": "stream",
          "name": "stdout",
          "text": [
            "Modified data: [ 3.01516886  1.88501734 -0.69070179 ...  0.47249106  4.65226033\n",
            "  0.2225279 ]\n",
            "Mean = 0.6089054024696978\n",
            "Stddev = 1.5555442295873878\n"
          ]
        }
      ]
    },
    {
      "cell_type": "code",
      "source": [
        "print(f\"Mean = {np.mean(data)}\")\n",
        "print(f\"Stddev = {np.std(data)}\")"
      ],
      "metadata": {
        "colab": {
          "base_uri": "https://localhost:8080/"
        },
        "id": "YEG5VT6P7t24",
        "outputId": "b9d32915-4958-472c-ec8e-36af21423153"
      },
      "execution_count": 3,
      "outputs": [
        {
          "output_type": "stream",
          "name": "stdout",
          "text": [
            "Mean = 0.9799756431175431\n",
            "Stddev = 2.2837980778751454\n"
          ]
        }
      ]
    },
    {
      "cell_type": "markdown",
      "source": [
        "# For images\n",
        "\n",
        "## Shashwat TODO"
      ],
      "metadata": {
        "id": "71yxwx_omyR-"
      }
    },
    {
      "cell_type": "code",
      "source": [],
      "metadata": {
        "id": "VHkXuhWvR3tA"
      },
      "execution_count": null,
      "outputs": []
    }
  ]
}