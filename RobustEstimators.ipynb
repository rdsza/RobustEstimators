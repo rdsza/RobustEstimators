{
  "cells": [
    {
      "cell_type": "markdown",
      "metadata": {
        "colab_type": "text",
        "id": "view-in-github"
      },
      "source": [
        "<a href=\"https://colab.research.google.com/github/rdsza/RobustEstimators/blob/main/RobustEstimators.ipynb\" target=\"_parent\"><img src=\"https://colab.research.google.com/assets/colab-badge.svg\" alt=\"Open In Colab\"/></a>"
      ]
    },
    {
      "cell_type": "code",
      "execution_count": 1,
      "metadata": {
        "id": "yIKFYkV90Up8"
      },
      "outputs": [],
      "source": [
        "import os\n",
        "import numpy as np\n",
        "import time\n",
        "import math"
      ]
    },
    {
      "cell_type": "markdown",
      "metadata": {
        "id": "-HGjkMH0kYa6"
      },
      "source": [
        "# Running estimator using Welford"
      ]
    },
    {
      "cell_type": "code",
      "execution_count": 2,
      "metadata": {
        "colab": {
          "base_uri": "https://localhost:8080/"
        },
        "id": "6F6W066c7Sxg",
        "outputId": "09be7005-2b22-49a9-cd4f-15fd86f83360"
      },
      "outputs": [
        {
          "name": "stdout",
          "output_type": "stream",
          "text": [
            "Modified data: [ 4.31861336  2.1005576   2.71945661 ...  7.20220526  3.17176053\n",
            " -0.16416957]\n",
            "Mean = 0.6050250409157667\n",
            "Stddev = 1.5845967063188904\n"
          ]
        }
      ],
      "source": [
        "import math\n",
        "import random\n",
        "\n",
        "# Generate data\n",
        "data = np.random.normal(loc=0.5, scale=1.5, size=4000)\n",
        "\n",
        "# Generate an array of random floats between 0 and 11 for Outliers\n",
        "random_floats = np.random.uniform(0, 11, size=400)  # Adjust size as needed\n",
        "\n",
        "# Iterate through the random floats and insert them into random positions in 'data'\n",
        "for value in random_floats:\n",
        "  random_index = random.randint(0, len(data) - 1)\n",
        "  data[random_index] = value\n",
        "\n",
        "print(\"Modified data:\", data)\n",
        "\n",
        "# Initialize variables for running stats\n",
        "n = 0      # Count of valid values\n",
        "mean = 0   # Running mean\n",
        "M2 = 0     # Sum of squares of differences from the current mean\n",
        "threshold = 3  # Number of standard deviations to trim outliers\n",
        "\n",
        "# Loop through each value in the stream\n",
        "for value in data:\n",
        "    # Outlier detection: only skip trimming for the first value\n",
        "    if n > 1:\n",
        "        # Calculate temporary standard deviation\n",
        "        variance = M2 / (n - 1) if n > 1 else 0\n",
        "        stddev = math.sqrt(variance)\n",
        "\n",
        "        # Check if value is within threshold * stddev from the mean\n",
        "        if abs(value - mean) > threshold * stddev:\n",
        "            #print(f\"Value {value} is considered an outlier and will be skipped.\")\n",
        "            continue\n",
        "\n",
        "    # Update running statistics for non-outliers\n",
        "    n += 1\n",
        "    delta = value - mean\n",
        "    mean += delta / n\n",
        "    delta2 = value - mean\n",
        "    M2 += delta * delta2\n",
        "\n",
        "    # Compute the standard deviation for the current set\n",
        "    if n < 2:\n",
        "        stddev = float('nan')  # Stddev undefined for the first value\n",
        "    else:\n",
        "        variance = M2 / (n - 1)\n",
        "        stddev = math.sqrt(variance)\n",
        "\n",
        "    # Output the running mean and standard deviation after each valid value\n",
        "    #print(f\"After {n} valid values: Mean = {mean}, Stddev = {stddev}\")\n",
        "\n",
        "print(f\"Mean = {mean}\")\n",
        "print(f\"Stddev = {stddev}\")"
      ]
    },
    {
      "cell_type": "code",
      "execution_count": 3,
      "metadata": {
        "colab": {
          "base_uri": "https://localhost:8080/"
        },
        "id": "YEG5VT6P7t24",
        "outputId": "b9d32915-4958-472c-ec8e-36af21423153"
      },
      "outputs": [
        {
          "name": "stdout",
          "output_type": "stream",
          "text": [
            "Mean = 0.9708055376259077\n",
            "Stddev = 2.2912078762332704\n"
          ]
        }
      ],
      "source": [
        "print(f\"Mean = {np.mean(data)}\")\n",
        "print(f\"Stddev = {np.std(data)}\")"
      ]
    },
    {
      "cell_type": "markdown",
      "metadata": {
        "id": "71yxwx_omyR-"
      },
      "source": [
        "# For images\n",
        "\n",
        "## Shashwat TODO"
      ]
    },
    {
      "cell_type": "code",
      "execution_count": null,
      "metadata": {
        "id": "VHkXuhWvR3tA"
      },
      "outputs": [],
      "source": []
    }
  ],
  "metadata": {
    "colab": {
      "authorship_tag": "ABX9TyOb2Np4nIbRFIdMiPxf15Zw",
      "include_colab_link": true,
      "provenance": []
    },
    "kernelspec": {
      "display_name": "Python 3",
      "name": "python3"
    },
    "language_info": {
      "codemirror_mode": {
        "name": "ipython",
        "version": 3
      },
      "file_extension": ".py",
      "mimetype": "text/x-python",
      "name": "python",
      "nbconvert_exporter": "python",
      "pygments_lexer": "ipython3",
      "version": "3.11.0"
    }
  },
  "nbformat": 4,
  "nbformat_minor": 0
}
